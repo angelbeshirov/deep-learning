{
 "cells": [
  {
   "cell_type": "markdown",
   "metadata": {
    "colab_type": "text",
    "id": "8tQJd2YSCfWR"
   },
   "source": []
  },
  {
   "cell_type": "markdown",
   "metadata": {
    "colab_type": "text",
    "id": "D7tqLMoKF6uq"
   },
   "source": [
    "Deep Learning\n",
    "=============\n",
    "\n",
    "Assignment 3.2\n",
    "------------\n",
    "\n",
    "After training a skip-gram model in `5_word2vec.ipynb`, the goal of this notebook is to train a LSTM character model over [Text8](http://mattmahoney.net/dc/textdata) data."
   ]
  },
  {
   "cell_type": "code",
   "execution_count": 1,
   "metadata": {
    "cellView": "both",
    "colab": {
     "autoexec": {
      "startup": false,
      "wait_interval": 0
     }
    },
    "colab_type": "code",
    "id": "MvEblsgEXxrd"
   },
   "outputs": [],
   "source": [
    "# These are all the modules we'll be using later. Make sure you can import them\n",
    "# before proceeding further.\n",
    "from __future__ import print_function\n",
    "import os\n",
    "import numpy as np\n",
    "import random\n",
    "import string\n",
    "import tensorflow as tf\n",
    "import zipfile\n",
    "from six.moves import range\n",
    "from six.moves.urllib.request import urlretrieve"
   ]
  },
  {
   "cell_type": "code",
   "execution_count": 2,
   "metadata": {
    "cellView": "both",
    "colab": {
     "autoexec": {
      "startup": false,
      "wait_interval": 0
     },
     "output_extras": [
      {
       "item_id": 1
      }
     ]
    },
    "colab_type": "code",
    "executionInfo": {
     "elapsed": 5993,
     "status": "ok",
     "timestamp": 1445965582896,
     "user": {
      "color": "#1FA15D",
      "displayName": "Vincent Vanhoucke",
      "isAnonymous": false,
      "isMe": true,
      "permissionId": "05076109866853157986",
      "photoUrl": "//lh6.googleusercontent.com/-cCJa7dTDcgQ/AAAAAAAAAAI/AAAAAAAACgw/r2EZ_8oYer4/s50-c-k-no/photo.jpg",
      "sessionId": "6f6f07b359200c46",
      "userId": "102167687554210253930"
     },
     "user_tz": 420
    },
    "id": "RJ-o3UBUFtCw",
    "outputId": "d530534e-0791-4a94-ca6d-1c8f1b908a9e"
   },
   "outputs": [
    {
     "name": "stdout",
     "output_type": "stream",
     "text": [
      "Found and verified text8.zip\n"
     ]
    }
   ],
   "source": [
    "url = 'http://mattmahoney.net/dc/'\n",
    "\n",
    "def maybe_download(filename, expected_bytes):\n",
    "    \"\"\"Download a file if not present, and make sure it's the right size.\"\"\"\n",
    "    if not os.path.exists(filename):\n",
    "        filename, _ = urlretrieve(url + filename, filename)\n",
    "    statinfo = os.stat(filename)\n",
    "    if statinfo.st_size == expected_bytes:\n",
    "        print('Found and verified %s' % filename)\n",
    "    else:\n",
    "        print(statinfo.st_size)\n",
    "        raise Exception(\n",
    "            'Failed to verify ' + filename + '. Can you get to it with a browser?')\n",
    "    return filename\n",
    "\n",
    "filename = maybe_download('text8.zip', 31344016)"
   ]
  },
  {
   "cell_type": "code",
   "execution_count": 11,
   "metadata": {
    "cellView": "both",
    "colab": {
     "autoexec": {
      "startup": false,
      "wait_interval": 0
     },
     "output_extras": [
      {
       "item_id": 1
      }
     ]
    },
    "colab_type": "code",
    "executionInfo": {
     "elapsed": 5982,
     "status": "ok",
     "timestamp": 1445965582916,
     "user": {
      "color": "#1FA15D",
      "displayName": "Vincent Vanhoucke",
      "isAnonymous": false,
      "isMe": true,
      "permissionId": "05076109866853157986",
      "photoUrl": "//lh6.googleusercontent.com/-cCJa7dTDcgQ/AAAAAAAAAAI/AAAAAAAACgw/r2EZ_8oYer4/s50-c-k-no/photo.jpg",
      "sessionId": "6f6f07b359200c46",
      "userId": "102167687554210253930"
     },
     "user_tz": 420
    },
    "id": "Mvf09fjugFU_",
    "outputId": "8f75db58-3862-404b-a0c3-799380597390"
   },
   "outputs": [
    {
     "name": "stdout",
     "output_type": "stream",
     "text": [
      "Data size 100000000\n",
      "e\n"
     ]
    }
   ],
   "source": [
    "def read_data(filename):\n",
    "    with zipfile.ZipFile(filename) as f:\n",
    "        name = f.namelist()[0]\n",
    "        data = tf.compat.as_str(f.read(name))\n",
    "    return data\n",
    "  \n",
    "text = read_data(filename)\n",
    "print('Data size %d' % len(text))"
   ]
  },
  {
   "cell_type": "markdown",
   "metadata": {
    "colab_type": "text",
    "id": "ga2CYACE-ghb"
   },
   "source": [
    "Create a small validation set."
   ]
  },
  {
   "cell_type": "code",
   "execution_count": 4,
   "metadata": {
    "cellView": "both",
    "colab": {
     "autoexec": {
      "startup": false,
      "wait_interval": 0
     },
     "output_extras": [
      {
       "item_id": 1
      }
     ]
    },
    "colab_type": "code",
    "executionInfo": {
     "elapsed": 6184,
     "status": "ok",
     "timestamp": 1445965583138,
     "user": {
      "color": "#1FA15D",
      "displayName": "Vincent Vanhoucke",
      "isAnonymous": false,
      "isMe": true,
      "permissionId": "05076109866853157986",
      "photoUrl": "//lh6.googleusercontent.com/-cCJa7dTDcgQ/AAAAAAAAAAI/AAAAAAAACgw/r2EZ_8oYer4/s50-c-k-no/photo.jpg",
      "sessionId": "6f6f07b359200c46",
      "userId": "102167687554210253930"
     },
     "user_tz": 420
    },
    "id": "w-oBpfFG-j43",
    "outputId": "bdb96002-d021-4379-f6de-a977924f0d02"
   },
   "outputs": [
    {
     "name": "stdout",
     "output_type": "stream",
     "text": [
      "99999000 ons anarchists advocate social relations based upon voluntary as\n",
      "1000  anarchism originated as a term of abuse first used against earl\n"
     ]
    }
   ],
   "source": [
    "valid_size = 1000\n",
    "valid_text = text[:valid_size]\n",
    "train_text = text[valid_size:]\n",
    "train_size = len(train_text)\n",
    "print(train_size, train_text[:64])\n",
    "print(valid_size, valid_text[:64])"
   ]
  },
  {
   "cell_type": "markdown",
   "metadata": {
    "colab_type": "text",
    "id": "Zdw6i4F8glpp"
   },
   "source": [
    "Utility functions to map characters to vocabulary IDs and back."
   ]
  },
  {
   "cell_type": "code",
   "execution_count": 5,
   "metadata": {
    "cellView": "both",
    "colab": {
     "autoexec": {
      "startup": false,
      "wait_interval": 0
     },
     "output_extras": [
      {
       "item_id": 1
      }
     ]
    },
    "colab_type": "code",
    "executionInfo": {
     "elapsed": 6276,
     "status": "ok",
     "timestamp": 1445965583249,
     "user": {
      "color": "#1FA15D",
      "displayName": "Vincent Vanhoucke",
      "isAnonymous": false,
      "isMe": true,
      "permissionId": "05076109866853157986",
      "photoUrl": "//lh6.googleusercontent.com/-cCJa7dTDcgQ/AAAAAAAAAAI/AAAAAAAACgw/r2EZ_8oYer4/s50-c-k-no/photo.jpg",
      "sessionId": "6f6f07b359200c46",
      "userId": "102167687554210253930"
     },
     "user_tz": 420
    },
    "id": "gAL1EECXeZsD",
    "outputId": "88fc9032-feb9-45ff-a9a0-a26759cc1f2e"
   },
   "outputs": [
    {
     "name": "stdout",
     "output_type": "stream",
     "text": [
      "Unexpected character: ï\n",
      "1 26 0 0\n",
      "a z  \n"
     ]
    }
   ],
   "source": [
    "vocabulary_size = len(string.ascii_lowercase) + 1 # [a-z] + ' '\n",
    "first_letter = ord(string.ascii_lowercase[0])\n",
    "\n",
    "def char2id(char):\n",
    "    if char in string.ascii_lowercase:\n",
    "        return ord(char) - first_letter + 1\n",
    "    elif char == ' ':\n",
    "        return 0\n",
    "    else:\n",
    "        print('Unexpected character: %s' % char)\n",
    "        return 0\n",
    "\n",
    "def id2char(dictid):\n",
    "    if dictid > 0:\n",
    "        return chr(dictid + first_letter - 1)\n",
    "    else:\n",
    "        return ' '\n",
    "\n",
    "print(char2id('a'), char2id('z'), char2id(' '), char2id('ï'))\n",
    "print(id2char(1), id2char(26), id2char(0))"
   ]
  },
  {
   "cell_type": "markdown",
   "metadata": {
    "colab_type": "text",
    "id": "lFwoyygOmWsL"
   },
   "source": [
    "Function to generate a training batch for the LSTM model."
   ]
  },
  {
   "cell_type": "code",
   "execution_count": 27,
   "metadata": {
    "cellView": "both",
    "colab": {
     "autoexec": {
      "startup": false,
      "wait_interval": 0
     },
     "output_extras": [
      {
       "item_id": 1
      }
     ]
    },
    "colab_type": "code",
    "executionInfo": {
     "elapsed": 6473,
     "status": "ok",
     "timestamp": 1445965583467,
     "user": {
      "color": "#1FA15D",
      "displayName": "Vincent Vanhoucke",
      "isAnonymous": false,
      "isMe": true,
      "permissionId": "05076109866853157986",
      "photoUrl": "//lh6.googleusercontent.com/-cCJa7dTDcgQ/AAAAAAAAAAI/AAAAAAAACgw/r2EZ_8oYer4/s50-c-k-no/photo.jpg",
      "sessionId": "6f6f07b359200c46",
      "userId": "102167687554210253930"
     },
     "user_tz": 420
    },
    "id": "d9wMtjy5hCj9",
    "outputId": "3dd79c80-454a-4be0-8b71-4a4a357b3367"
   },
   "outputs": [
    {
     "name": "stdout",
     "output_type": "stream",
     "text": [
      "64\n",
      "[('o', 'o'), ('w', 'w'), ('l', 'l'), (' ', ' '), ('m', 'm'), ('h', 'h'), ('y', 'y'), ('a', 'a'), ('t', 't'), ('m', 'm'), ('n', 'n'), ('h', 'h'), ('e', 'e'), ('e', 'e'), ('o', 'o'), ('y', 'y'), ('o', 'o'), ('a', 'a'), (' ', ' '), ('a', 'a'), ('i', 'i'), (' ', ' '), ('t', 't'), ('d', 'd'), ('f', 'f'), ('a', 'a'), ('e', 'e'), ('e', 'e'), ('a', 'a'), ('r', 'r'), ('i', 'i'), ('o', 'o'), ('a', 'a'), ('g', 'g'), ('i', 'i'), ('r', 'r'), ('c', 'c'), ('a', 'a'), (' ', ' '), ('m', 'm'), ('t', 't'), ('u', 'u'), ('e', 'e'), ('o', 'o'), ('o', 'o'), ('s', 's'), ('k', 'k'), ('e', 'e'), ('w', 'w'), ('e', 'e'), ('t', 't'), ('e', 'e'), (' ', ' '), ('i', 'i'), ('t', 't'), ('d', 'd'), ('t', 't'), ('e', 'e'), ('f', 'f'), ('d', 'd'), ('t', 't'), ('a', 'a'), ('a', 'a'), ('s', 's')]\n",
      "[('on', 'n'), ('wh', 'h'), ('ll', 'l'), (' a', 'a'), ('ma', 'a'), ('he', 'e'), ('y ', ' '), ('ay', 'y'), ('ti', 'i'), ('mi', 'i'), ('ne', 'e'), ('he', 'e'), ('e ', ' '), ('eb', 'b'), ('o ', ' '), ('ye', 'e'), ('or', 'r'), ('a ', ' '), (' t', 't'), ('ar', 'r'), ('it', 't'), (' a', 'a'), ('ti', 'i'), ('dy', 'y'), ('f ', ' '), ('at', 't'), ('e ', ' '), ('en', 'n'), ('am', 'm'), ('rv', 'v'), ('io', 'o'), ('o ', ' '), ('a ', ' '), ('gh', 'h'), ('in', 'n'), ('ro', 'o'), ('ca', 'a'), ('as', 's'), (' d', 'd'), ('mo', 'o'), ('t ', ' '), ('u ', ' '), ('e ', ' '), ('o ', ' '), ('of', 'f'), ('s ', ' '), ('kl', 'l'), ('er', 'r'), ('ws', 's'), ('et', 't'), ('th', 'h'), ('et', 't'), (' s', 's'), ('is', 's'), ('ti', 'i'), ('d ', ' '), ('th', 'h'), ('en', 'n'), ('fe', 'e'), ('du', 'u'), ('tr', 'r'), ('at', 't'), ('ap', 'p'), ('si', 'i')]\n",
      "[('ons', 's'), ('whe', 'e'), ('lle', 'e'), (' ab', 'b'), ('mar', 'r'), ('hel', 'l'), ('y a', 'a'), ('ay ', ' '), ('tio', 'o'), ('mig', 'g'), ('new', 'w'), ('he ', ' '), ('e l', 'l'), ('ebe', 'e'), ('o b', 'b'), ('yer', 'r'), ('ore', 'e'), ('a f', 'f'), (' tw', 'w'), ('ari', 'i'), ('ity', 'y'), (' an', 'n'), ('tio', 'o'), ('dy ', ' '), ('f c', 'c'), ('at ', ' '), ('e c', 'c'), ('ent', 't'), ('amp', 'p'), ('rve', 'e'), ('iou', 'u'), ('o c', 'c'), ('a d', 'd'), ('gh ', ' '), ('ine', 'e'), ('ros', 's'), ('cal', 'l'), ('ast', 't'), (' di', 'i'), ('mos', 's'), ('t s', 's'), ('u i', 'i'), ('e o', 'o'), ('o e', 'e'), ('of ', ' '), ('s t', 't'), ('kla', 'a'), ('erp', 'p'), ('ws ', ' '), ('et ', ' '), ('the', 'e'), ('etc', 'c'), (' sh', 'h'), ('ise', 'e'), ('tin', 'n'), ('d n', 'n'), ('th ', ' '), ('enc', 'c'), ('fen', 'n'), ('dua', 'a'), ('tre', 'e'), ('ati', 'i'), ('app', 'p'), ('si ', ' ')]\n",
      "[('ons ', ' '), ('when', 'n'), ('ller', 'r'), (' abb', 'b'), ('marr', 'r'), ('hel ', ' '), ('y an', 'n'), ('ay o', 'o'), ('tion', 'n'), ('migr', 'r'), ('new ', ' '), ('he b', 'b'), ('e li', 'i'), ('eber', 'r'), ('o be', 'e'), ('yer ', ' '), ('ore ', ' '), ('a fi', 'i'), (' two', 'o'), ('aris', 's'), ('ity ', ' '), (' and', 'd'), ('tion', 'n'), ('dy t', 't'), ('f ce', 'e'), ('at i', 'i'), ('e co', 'o'), ('ent ', ' '), ('ampa', 'a'), ('rver', 'r'), ('ious', 's'), ('o ca', 'a'), ('a du', 'u'), ('gh a', 'a'), ('ine ', ' '), ('ross', 's'), ('cal ', ' '), ('ast ', ' '), (' dim', 'm'), ('most', 't'), ('t s ', ' '), ('u is', 's'), ('e os', 's'), ('o ei', 'i'), ('of i', 'i'), ('s th', 'h'), ('klah', 'h'), ('erpr', 'r'), ('ws b', 'b'), ('et i', 'i'), ('the ', ' '), ('etch', 'h'), (' sha', 'a'), ('ised', 'd'), ('ting', 'g'), ('d ne', 'e'), ('th r', 'r'), ('ency', 'y'), ('fens', 's'), ('duat', 't'), ('tree', 'e'), ('atio', 'o'), ('appe', 'e'), ('si h', 'h')]\n",
      "[('ons a', 'a'), ('when ', ' '), ('lleri', 'i'), (' abbe', 'e'), ('marri', 'i'), ('hel a', 'a'), ('y and', 'd'), ('ay op', 'p'), ('tion ', ' '), ('migra', 'a'), ('new y', 'y'), ('he bo', 'o'), ('e lis', 's'), ('eber ', ' '), ('o be ', ' '), ('yer w', 'w'), ('ore s', 's'), ('a fie', 'e'), (' two ', ' '), ('arist', 't'), ('ity c', 'c'), (' and ', ' '), ('tion ', ' '), ('dy to', 'o'), ('f cer', 'r'), ('at it', 't'), ('e con', 'n'), ('ent t', 't'), ('ampai', 'i'), ('rver ', ' '), ('ious ', ' '), ('o cap', 'p'), ('a dup', 'p'), ('gh an', 'n'), ('ine j', 'j'), ('ross ', ' '), ('cal t', 't'), ('ast i', 'i'), (' dime', 'e'), ('most ', ' '), ('t s s', 's'), ('u is ', ' '), ('e osc', 'c'), ('o eig', 'g'), ('of it', 't'), ('s the', 'e'), ('klaho', 'o'), ('erpri', 'i'), ('ws be', 'e'), ('et in', 'n'), ('the f', 'f'), ('etchy', 'y'), (' shar', 'r'), ('ised ', ' '), ('ting ', ' '), ('d neo', 'o'), ('th ri', 'i'), ('encyc', 'c'), ('fense', 'e'), ('duati', 'i'), ('treet', 't'), ('ation', 'n'), ('appea', 'a'), ('si ha', 'a')]\n",
      "[('ons an', 'n'), ('when m', 'm'), ('lleria', 'a'), (' abbey', 'y'), ('marrie', 'e'), ('hel an', 'n'), ('y and ', ' '), ('ay ope', 'e'), ('tion f', 'f'), ('migrat', 't'), ('new yo', 'o'), ('he boe', 'e'), ('e list', 't'), ('eber h', 'h'), ('o be m', 'm'), ('yer wh', 'h'), ('ore si', 'i'), ('a fier', 'r'), (' two s', 's'), ('aristo', 'o'), ('ity ca', 'a'), (' and i', 'i'), ('tion o', 'o'), ('dy to ', ' '), ('f cert', 't'), ('at it ', ' '), ('e conv', 'v'), ('ent to', 'o'), ('ampaig', 'g'), ('rver s', 's'), ('ious t', 't'), ('o capi', 'i'), ('a dupl', 'l'), ('gh ann', 'n'), ('ine ja', 'a'), ('ross z', 'z'), ('cal th', 'h'), ('ast in', 'n'), (' dimen', 'n'), ('most h', 'h'), ('t s su', 'u'), ('u is s', 's'), ('e osci', 'i'), ('o eigh', 'h'), ('of ita', 'a'), ('s the ', ' '), ('klahom', 'm'), ('erpris', 's'), ('ws bec', 'c'), ('et in ', ' '), ('the fa', 'a'), ('etchy ', ' '), (' sharm', 'm'), ('ised e', 'e'), ('ting i', 'i'), ('d neo ', ' '), ('th ris', 's'), ('encycl', 'l'), ('fense ', ' '), ('duatin', 'n'), ('treet ', ' '), ('ations', 's'), ('appeal', 'l'), ('si hav', 'v')]\n",
      "[('ons ana', 'a'), ('when mi', 'i'), ('lleria ', ' '), (' abbeys', 's'), ('married', 'd'), ('hel and', 'd'), ('y and l', 'l'), ('ay open', 'n'), ('tion fr', 'r'), ('migrati', 'i'), ('new yor', 'r'), ('he boei', 'i'), ('e liste', 'e'), ('eber ha', 'a'), ('o be ma', 'a'), ('yer who', 'o'), ('ore sig', 'g'), ('a fierc', 'c'), (' two si', 'i'), ('aristot', 't'), ('ity can', 'n'), (' and in', 'n'), ('tion of', 'f'), ('dy to p', 'p'), ('f certa', 'a'), ('at it w', 'w'), ('e convi', 'i'), ('ent tol', 'l'), ('ampaign', 'n'), ('rver si', 'i'), ('ious te', 'e'), ('o capit', 't'), ('a dupli', 'i'), ('gh ann ', ' '), ('ine jan', 'n'), ('ross ze', 'e'), ('cal the', 'e'), ('ast ins', 's'), (' dimens', 's'), ('most ho', 'o'), ('t s sup', 'p'), ('u is st', 't'), ('e oscil', 'l'), ('o eight', 't'), ('of ital', 'l'), ('s the t', 't'), ('klahoma', 'a'), ('erprise', 'e'), ('ws beco', 'o'), ('et in a', 'a'), ('the fab', 'b'), ('etchy t', 't'), (' sharma', 'a'), ('ised em', 'm'), ('ting in', 'n'), ('d neo l', 'l'), ('th risk', 'k'), ('encyclo', 'o'), ('fense t', 't'), ('duating', 'g'), ('treet g', 'g'), ('ations ', ' '), ('appeal ', ' '), ('si have', 'e')]\n",
      "[('ons anar', 'r'), ('when mil', 'l'), ('lleria a', 'a'), (' abbeys ', ' '), ('married ', ' '), ('hel and ', ' '), ('y and li', 'i'), ('ay opene', 'e'), ('tion fro', 'o'), ('migratio', 'o'), ('new york', 'k'), ('he boein', 'n'), ('e listed', 'd'), ('eber has', 's'), ('o be mad', 'd'), ('yer who ', ' '), ('ore sign', 'n'), ('a fierce', 'e'), (' two six', 'x'), ('aristotl', 'l'), ('ity can ', ' '), (' and int', 't'), ('tion of ', ' '), ('dy to pa', 'a'), ('f certai', 'i'), ('at it wi', 'i'), ('e convin', 'n'), ('ent told', 'd'), ('ampaign ', ' '), ('rver sid', 'd'), ('ious tex', 'x'), ('o capita', 'a'), ('a duplic', 'c'), ('gh ann e', 'e'), ('ine janu', 'u'), ('ross zer', 'r'), ('cal theo', 'o'), ('ast inst', 't'), (' dimensi', 'i'), ('most hol', 'l'), ('t s supp', 'p'), ('u is sti', 'i'), ('e oscill', 'l'), ('o eight ', ' '), ('of italy', 'y'), ('s the to', 'o'), ('klahoma ', ' '), ('erprise ', ' '), ('ws becom', 'm'), ('et in a ', ' '), ('the fabi', 'i'), ('etchy to', 'o'), (' sharman', 'n'), ('ised emp', 'p'), ('ting in ', ' '), ('d neo la', 'a'), ('th risky', 'y'), ('encyclop', 'p'), ('fense th', 'h'), ('duating ', ' '), ('treet gr', 'r'), ('ations m', 'm'), ('appeal o', 'o'), ('si have ', ' ')]\n",
      "[('ons anarc', 'c'), ('when mili', 'i'), ('lleria ar', 'r'), (' abbeys a', 'a'), ('married u', 'u'), ('hel and r', 'r'), ('y and lit', 't'), ('ay opened', 'd'), ('tion from', 'm'), ('migration', 'n'), ('new york ', ' '), ('he boeing', 'g'), ('e listed ', ' '), ('eber has ', ' '), ('o be made', 'e'), ('yer who r', 'r'), ('ore signi', 'i'), ('a fierce ', ' '), (' two six ', ' '), ('aristotle', 'e'), ('ity can b', 'b'), (' and intr', 'r'), ('tion of t', 't'), ('dy to pas', 's'), ('f certain', 'n'), ('at it wil', 'l'), ('e convinc', 'c'), ('ent told ', ' '), ('ampaign a', 'a'), ('rver side', 'e'), ('ious text', 't'), ('o capital', 'l'), ('a duplica', 'a'), ('gh ann es', 's'), ('ine janua', 'a'), ('ross zero', 'o'), ('cal theor', 'r'), ('ast insta', 'a'), (' dimensio', 'o'), ('most holy', 'y'), ('t s suppo', 'o'), ('u is stil', 'l'), ('e oscilla', 'a'), ('o eight s', 's'), ('of italy ', ' '), ('s the tow', 'w'), ('klahoma p', 'p'), ('erprise l', 'l'), ('ws become', 'e'), ('et in a n', 'n'), ('the fabia', 'a'), ('etchy to ', ' '), (' sharman ', ' '), ('ised empe', 'e'), ('ting in p', 'p'), ('d neo lat', 't'), ('th risky ', ' '), ('encyclope', 'e'), ('fense the', 'e'), ('duating f', 'f'), ('treet gri', 'i'), ('ations mo', 'o'), ('appeal of', 'f'), ('si have m', 'm')]\n",
      "[('ons anarch', 'h'), ('when milit', 't'), ('lleria arc', 'c'), (' abbeys an', 'n'), ('married ur', 'r'), ('hel and ri', 'i'), ('y and litu', 'u'), ('ay opened ', ' '), ('tion from ', ' '), ('migration ', ' '), ('new york o', 'o'), ('he boeing ', ' '), ('e listed w', 'w'), ('eber has p', 'p'), ('o be made ', ' '), ('yer who re', 'e'), ('ore signif', 'f'), ('a fierce c', 'c'), (' two six e', 'e'), ('aristotle ', ' '), ('ity can be', 'e'), (' and intra', 'a'), ('tion of th', 'h'), ('dy to pass', 's'), ('f certain ', ' '), ('at it will', 'l'), ('e convince', 'e'), ('ent told h', 'h'), ('ampaign an', 'n'), ('rver side ', ' '), ('ious texts', 's'), ('o capitali', 'i'), ('a duplicat', 't'), ('gh ann es ', ' '), ('ine januar', 'r'), ('ross zero ', ' '), ('cal theori', 'i'), ('ast instan', 'n'), (' dimension', 'n'), ('most holy ', ' '), ('t s suppor', 'r'), ('u is still', 'l'), ('e oscillat', 't'), ('o eight su', 'u'), ('of italy l', 'l'), ('s the towe', 'e'), ('klahoma pr', 'r'), ('erprise li', 'i'), ('ws becomes', 's'), ('et in a na', 'a'), ('the fabian', 'n'), ('etchy to r', 'r'), (' sharman n', 'n'), ('ised emper', 'r'), ('ting in po', 'o'), ('d neo lati', 'i'), ('th risky r', 'r'), ('encycloped', 'd'), ('fense the ', ' '), ('duating fr', 'r'), ('treet grid', 'd'), ('ations mor', 'r'), ('appeal of ', ' '), ('si have ma', 'a')]\n",
      "[('ons anarchi', 'i'), ('when milita', 'a'), ('lleria arch', 'h'), (' abbeys and', 'd'), ('married urr', 'r'), ('hel and ric', 'c'), ('y and litur', 'r'), ('ay opened f', 'f'), ('tion from t', 't'), ('migration t', 't'), ('new york ot', 't'), ('he boeing s', 's'), ('e listed wi', 'i'), ('eber has pr', 'r'), ('o be made t', 't'), ('yer who rec', 'c'), ('ore signifi', 'i'), ('a fierce cr', 'r'), (' two six ei', 'i'), ('aristotle s', 's'), ('ity can be ', ' '), (' and intrac', 'c'), ('tion of the', 'e'), ('dy to pass ', ' '), ('f certain d', 'd'), ('at it will ', ' '), ('e convince ', ' '), ('ent told hi', 'i'), ('ampaign and', 'd'), ('rver side s', 's'), ('ious texts ', ' '), ('o capitaliz', 'z'), ('a duplicate', 'e'), ('gh ann es d', 'd'), ('ine january', 'y'), ('ross zero t', 't'), ('cal theorie', 'e'), ('ast instanc', 'c'), (' dimensiona', 'a'), ('most holy m', 'm'), ('t s support', 't'), ('u is still ', ' '), ('e oscillati', 'i'), ('o eight sub', 'b'), ('of italy la', 'a'), ('s the tower', 'r'), ('klahoma pre', 'e'), ('erprise lin', 'n'), ('ws becomes ', ' '), ('et in a naz', 'z'), ('the fabian ', ' '), ('etchy to re', 'e'), (' sharman ne', 'e'), ('ised empero', 'o'), ('ting in pol', 'l'), ('d neo latin', 'n'), ('th risky ri', 'i'), ('encyclopedi', 'i'), ('fense the a', 'a'), ('duating fro', 'o'), ('treet grid ', ' '), ('ations more', 'e'), ('appeal of d', 'd'), ('si have mad', 'd')]\n",
      "['ons anarchi', 'when milita', 'lleria arch', ' abbeys and', 'married urr', 'hel and ric', 'y and litur', 'ay opened f', 'tion from t', 'migration t', 'new york ot', 'he boeing s', 'e listed wi', 'eber has pr', 'o be made t', 'yer who rec', 'ore signifi', 'a fierce cr', ' two six ei', 'aristotle s', 'ity can be ', ' and intrac', 'tion of the', 'dy to pass ', 'f certain d', 'at it will ', 'e convince ', 'ent told hi', 'ampaign and', 'rver side s', 'ious texts ', 'o capitaliz', 'a duplicate', 'gh ann es d', 'ine january', 'ross zero t', 'cal theorie', 'ast instanc', ' dimensiona', 'most holy m', 't s support', 'u is still ', 'e oscillati', 'o eight sub', 'of italy la', 's the tower', 'klahoma pre', 'erprise lin', 'ws becomes ', 'et in a naz', 'the fabian ', 'etchy to re', ' sharman ne', 'ised empero', 'ting in pol', 'd neo latin', 'th risky ri', 'encyclopedi', 'fense the a', 'duating fro', 'treet grid ', 'ations more', 'appeal of d', 'si have mad']\n",
      "64\n",
      "[('i', 'i'), ('a', 'a'), ('h', 'h'), ('d', 'd'), ('r', 'r'), ('c', 'c'), ('r', 'r'), ('f', 'f'), ('t', 't'), ('t', 't'), ('t', 't'), ('s', 's'), ('i', 'i'), ('r', 'r'), ('t', 't'), ('c', 'c'), ('i', 'i'), ('r', 'r'), ('i', 'i'), ('s', 's'), (' ', ' '), ('c', 'c'), ('e', 'e'), (' ', ' '), ('d', 'd'), (' ', ' '), (' ', ' '), ('i', 'i'), ('d', 'd'), ('s', 's'), (' ', ' '), ('z', 'z'), ('e', 'e'), ('d', 'd'), ('y', 'y'), ('t', 't'), ('e', 'e'), ('c', 'c'), ('a', 'a'), ('m', 'm'), ('t', 't'), (' ', ' '), ('i', 'i'), ('b', 'b'), ('a', 'a'), ('r', 'r'), ('e', 'e'), ('n', 'n'), (' ', ' '), ('z', 'z'), (' ', ' '), ('e', 'e'), ('e', 'e'), ('o', 'o'), ('l', 'l'), ('n', 'n'), ('i', 'i'), ('i', 'i'), ('a', 'a'), ('o', 'o'), (' ', ' '), ('e', 'e'), ('d', 'd'), ('d', 'd')]\n",
      "[('is', 's'), ('ar', 'r'), ('he', 'e'), ('d ', ' '), ('ra', 'a'), ('ch', 'h'), ('rg', 'g'), ('fo', 'o'), ('th', 'h'), ('to', 'o'), ('th', 'h'), ('se', 'e'), ('it', 't'), ('ro', 'o'), ('to', 'o'), ('ce', 'e'), ('ic', 'c'), ('ri', 'i'), ('ig', 'g'), ('s ', ' '), (' l', 'l'), ('ce', 'e'), ('e ', ' '), (' h', 'h'), ('dr', 'r'), (' t', 't'), (' t', 't'), ('im', 'm'), ('d ', ' '), ('st', 't'), (' s', 's'), ('ze', 'e'), ('e ', ' '), ('d ', ' '), ('y ', ' '), ('th', 'h'), ('es', 's'), ('ce', 'e'), ('al', 'l'), ('mo', 'o'), ('t ', ' '), (' d', 'd'), ('in', 'n'), ('bt', 't'), ('an', 'n'), ('r ', ' '), ('es', 's'), ('nu', 'u'), (' t', 't'), ('zi', 'i'), (' s', 's'), ('el', 'l'), ('et', 't'), ('or', 'r'), ('li', 'i'), ('n ', ' '), ('is', 's'), ('ic', 'c'), ('ai', 'i'), ('om', 'm'), (' c', 'c'), ('e ', ' '), ('de', 'e'), ('de', 'e')]\n",
      "[('ist', 't'), ('ary', 'y'), ('hes', 's'), ('d m', 'm'), ('rac', 'c'), ('cha', 'a'), ('rgi', 'i'), ('for', 'r'), ('the', 'e'), ('too', 'o'), ('the', 'e'), ('sev', 'v'), ('ith', 'h'), ('rob', 'b'), ('to ', ' '), ('cei', 'i'), ('ica', 'a'), ('rit', 't'), ('igh', 'h'), ('s u', 'u'), (' lo', 'o'), ('cel', 'l'), ('e s', 's'), (' hi', 'i'), ('dru', 'u'), (' ta', 'a'), (' th', 'h'), ('im ', ' '), ('d b', 'b'), ('sta', 'a'), (' su', 'u'), ('ze ', ' '), ('e o', 'o'), ('d h', 'h'), ('y e', 'e'), ('the', 'e'), ('es ', ' '), ('ce ', ' '), ('al ', ' '), ('mor', 'r'), ('t o', 'o'), (' di', 'i'), ('ing', 'g'), ('bty', 'y'), ('ang', 'g'), ('r c', 'c'), ('ess', 's'), ('nux', 'x'), (' th', 'h'), ('zi ', ' '), (' so', 'o'), ('ela', 'a'), ('etw', 'w'), ('or ', ' '), ('lit', 't'), ('n m', 'm'), ('isk', 'k'), ('ic ', ' '), ('air', 'r'), ('om ', ' '), (' ce', 'e'), ('e t', 't'), ('dev', 'v'), ('de ', ' ')]\n",
      "[('ists', 's'), ('ary ', ' '), ('hes ', ' '), ('d mo', 'o'), ('raca', 'a'), ('char', 'r'), ('rgic', 'c'), ('for ', ' '), ('the ', ' '), ('took', 'k'), ('ther', 'r'), ('seve', 'e'), ('ith ', ' '), ('roba', 'a'), ('to r', 'r'), ('ceiv', 'v'), ('ican', 'n'), ('riti', 'i'), ('ight', 't'), ('s un', 'n'), (' los', 's'), ('cell', 'l'), ('e si', 'i'), (' him', 'm'), ('drug', 'g'), (' tak', 'k'), (' the', 'e'), ('im t', 't'), ('d ba', 'a'), ('stan', 'n'), (' suc', 'c'), ('ze o', 'o'), ('e of', 'f'), ('d hi', 'i'), ('y ei', 'i'), ('the ', ' '), ('es c', 'c'), ('ce t', 't'), ('al a', 'a'), ('morm', 'm'), ('t or', 'r'), (' dis', 's'), ('ing ', ' '), ('btyp', 'p'), ('angu', 'u'), ('r co', 'o'), ('ess ', ' '), ('nux ', ' '), (' the', 'e'), ('zi c', 'c'), (' soc', 'c'), ('elat', 't'), ('etwo', 'o'), ('or h', 'h'), ('liti', 'i'), ('n mo', 'o'), ('iske', 'e'), ('ic o', 'o'), ('air ', ' '), ('om a', 'a'), (' cen', 'n'), ('e th', 'h'), ('devo', 'o'), ('de s', 's')]\n",
      "[('ists ', ' '), ('ary g', 'g'), ('hes n', 'n'), ('d mon', 'n'), ('raca ', ' '), ('chard', 'd'), ('rgica', 'a'), ('for p', 'p'), ('the n', 'n'), ('took ', ' '), ('ther ', ' '), ('seven', 'n'), ('ith a', 'a'), ('robab', 'b'), ('to re', 'e'), ('ceive', 'e'), ('icant', 't'), ('ritic', 'c'), ('ight ', ' '), ('s unc', 'c'), (' lost', 't'), ('cellu', 'u'), ('e siz', 'z'), (' him ', ' '), ('drugs', 's'), (' take', 'e'), (' the ', ' '), ('im to', 'o'), ('d bar', 'r'), ('stand', 'd'), (' such', 'h'), ('ze on', 'n'), ('e of ', ' '), ('d hiv', 'v'), ('y eig', 'g'), ('the l', 'l'), ('es cl', 'l'), ('ce th', 'h'), ('al an', 'n'), ('mormo', 'o'), ('t or ', ' '), (' disa', 'a'), ('ing s', 's'), ('btype', 'e'), ('angua', 'a'), ('r com', 'm'), ('ess o', 'o'), ('nux s', 's'), (' the ', ' '), ('zi co', 'o'), (' soci', 'i'), ('elati', 'i'), ('etwor', 'r'), ('or hi', 'i'), ('litic', 'c'), ('n mos', 's'), ('isker', 'r'), ('ic ov', 'v'), ('air c', 'c'), ('om ac', 'c'), (' cent', 't'), ('e tha', 'a'), ('devot', 't'), ('de su', 'u')]\n",
      "[('ists a', 'a'), ('ary go', 'o'), ('hes na', 'a'), ('d mona', 'a'), ('raca p', 'p'), ('chard ', ' '), ('rgical', 'l'), ('for pa', 'a'), ('the na', 'a'), ('took p', 'p'), ('ther w', 'w'), ('seven ', ' '), ('ith a ', ' '), ('robabl', 'l'), ('to rec', 'c'), ('ceived', 'd'), ('icant ', ' '), ('ritic ', ' '), ('ight i', 'i'), ('s unca', 'a'), (' lost ', ' '), ('cellul', 'l'), ('e size', 'e'), (' him a', 'a'), ('drugs ', ' '), (' take ', ' '), (' the p', 'p'), ('im to ', ' '), ('d barr', 'r'), ('standa', 'a'), (' such ', ' '), ('ze on ', ' '), ('e of t', 't'), ('d hive', 'e'), ('y eigh', 'h'), ('the le', 'e'), ('es cla', 'a'), ('ce the', 'e'), ('al ana', 'a'), ('mormon', 'n'), ('t or a', 'a'), (' disag', 'g'), ('ing sy', 'y'), ('btypes', 's'), ('anguag', 'g'), ('r comm', 'm'), ('ess on', 'n'), ('nux su', 'u'), (' the f', 'f'), ('zi con', 'n'), (' socie', 'e'), ('elativ', 'v'), ('etwork', 'k'), ('or hir', 'r'), ('litica', 'a'), ('n most', 't'), ('iskerd', 'd'), ('ic ove', 'e'), ('air co', 'o'), ('om acn', 'n'), (' cente', 'e'), ('e than', 'n'), ('devoti', 'i'), ('de suc', 'c')]\n",
      "[('ists ad', 'd'), ('ary gov', 'v'), ('hes nat', 't'), ('d monas', 's'), ('raca pr', 'r'), ('chard b', 'b'), ('rgical ', ' '), ('for pas', 's'), ('the nat', 't'), ('took pl', 'l'), ('ther we', 'e'), ('seven s', 's'), ('ith a g', 'g'), ('robably', 'y'), ('to reco', 'o'), ('ceived ', ' '), ('icant t', 't'), ('ritic o', 'o'), ('ight in', 'n'), ('s uncau', 'u'), (' lost a', 'a'), ('cellula', 'a'), ('e size ', ' '), (' him a ', ' '), ('drugs c', 'c'), (' take t', 't'), (' the pr', 'r'), ('im to n', 'n'), ('d barre', 'e'), ('standar', 'r'), (' such a', 'a'), ('ze on t', 't'), ('e of th', 'h'), ('d hiver', 'r'), ('y eight', 't'), ('the lea', 'a'), ('es clas', 's'), ('ce the ', ' '), ('al anal', 'l'), ('mormons', 's'), ('t or at', 't'), (' disagr', 'r'), ('ing sys', 's'), ('btypes ', ' '), ('anguage', 'e'), ('r commi', 'i'), ('ess one', 'e'), ('nux sus', 's'), (' the fi', 'i'), ('zi conc', 'c'), (' societ', 't'), ('elative', 'e'), ('etworks', 's'), ('or hiro', 'o'), ('litical', 'l'), ('n most ', ' '), ('iskerdo', 'o'), ('ic over', 'r'), ('air com', 'm'), ('om acnm', 'm'), (' center', 'r'), ('e than ', ' '), ('devotio', 'o'), ('de such', 'h')]\n",
      "[('ists adv', 'v'), ('ary gove', 'e'), ('hes nati', 'i'), ('d monast', 't'), ('raca pri', 'i'), ('chard ba', 'a'), ('rgical l', 'l'), ('for pass', 's'), ('the nati', 'i'), ('took pla', 'a'), ('ther wel', 'l'), ('seven si', 'i'), ('ith a gl', 'l'), ('robably ', ' '), ('to recog', 'g'), ('ceived t', 't'), ('icant th', 'h'), ('ritic of', 'f'), ('ight in ', ' '), ('s uncaus', 's'), (' lost as', 's'), ('cellular', 'r'), ('e size o', 'o'), (' him a s', 's'), ('drugs co', 'o'), (' take to', 'o'), (' the pri', 'i'), ('im to na', 'a'), ('d barred', 'd'), ('standard', 'd'), (' such as', 's'), ('ze on th', 'h'), ('e of the', 'e'), ('d hiver ', ' '), ('y eight ', ' '), ('the lead', 'd'), ('es class', 's'), ('ce the n', 'n'), ('al analy', 'y'), ('mormons ', ' '), ('t or at ', ' '), (' disagre', 'e'), ('ing syst', 't'), ('btypes b', 'b'), ('anguages', 's'), ('r commis', 's'), ('ess one ', ' '), ('nux suse', 'e'), (' the fir', 'r'), ('zi conce', 'e'), (' society', 'y'), ('elativel', 'l'), ('etworks ', ' '), ('or hiroh', 'h'), ('litical ', ' '), ('n most o', 'o'), ('iskerdoo', 'o'), ('ic overv', 'v'), ('air comp', 'p'), ('om acnm ', ' '), (' centerl', 'l'), ('e than a', 'a'), ('devotion', 'n'), ('de such ', ' ')]\n",
      "[('ists advo', 'o'), ('ary gover', 'r'), ('hes natio', 'o'), ('d monaste', 'e'), ('raca prin', 'n'), ('chard bae', 'e'), ('rgical la', 'a'), ('for passe', 'e'), ('the natio', 'o'), ('took plac', 'c'), ('ther well', 'l'), ('seven six', 'x'), ('ith a glo', 'o'), ('robably b', 'b'), ('to recogn', 'n'), ('ceived th', 'h'), ('icant tha', 'a'), ('ritic of ', ' '), ('ight in s', 's'), ('s uncause', 'e'), (' lost as ', ' '), ('cellular ', ' '), ('e size of', 'f'), (' him a st', 't'), ('drugs con', 'n'), (' take to ', ' '), (' the prie', 'e'), ('im to nam', 'm'), ('d barred ', ' '), ('standard ', ' '), (' such as ', ' '), ('ze on the', 'e'), ('e of the ', ' '), ('d hiver o', 'o'), ('y eight m', 'm'), ('the lead ', ' '), ('es classi', 'i'), ('ce the no', 'o'), ('al analys', 's'), ('mormons b', 'b'), ('t or at l', 'l'), (' disagree', 'e'), ('ing syste', 'e'), ('btypes ba', 'a'), ('anguages ', ' '), ('r commiss', 's'), ('ess one n', 'n'), ('nux suse ', ' '), (' the firs', 's'), ('zi concen', 'n'), (' society ', ' '), ('elatively', 'y'), ('etworks s', 's'), ('or hirohi', 'i'), ('litical i', 'i'), ('n most of', 'f'), ('iskerdoo ', ' '), ('ic overvi', 'i'), ('air compo', 'o'), ('om acnm a', 'a'), (' centerli', 'i'), ('e than an', 'n'), ('devotiona', 'a'), ('de such d', 'd')]\n",
      "[('ists advoc', 'c'), ('ary govern', 'n'), ('hes nation', 'n'), ('d monaster', 'r'), ('raca princ', 'c'), ('chard baer', 'r'), ('rgical lan', 'n'), ('for passen', 'n'), ('the nation', 'n'), ('took place', 'e'), ('ther well ', ' '), ('seven six ', ' '), ('ith a glos', 's'), ('robably be', 'e'), ('to recogni', 'i'), ('ceived the', 'e'), ('icant than', 'n'), ('ritic of t', 't'), ('ight in si', 'i'), ('s uncaused', 'd'), (' lost as i', 'i'), ('cellular i', 'i'), ('e size of ', ' '), (' him a sti', 'i'), ('drugs conf', 'f'), (' take to c', 'c'), (' the pries', 's'), ('im to name', 'e'), ('d barred a', 'a'), ('standard f', 'f'), (' such as e', 'e'), ('ze on the ', ' '), ('e of the o', 'o'), ('d hiver on', 'n'), ('y eight ma', 'a'), ('the lead c', 'c'), ('es classic', 'c'), ('ce the non', 'n'), ('al analysi', 'i'), ('mormons be', 'e'), ('t or at le', 'e'), (' disagreed', 'd'), ('ing system', 'm'), ('btypes bas', 's'), ('anguages t', 't'), ('r commissi', 'i'), ('ess one ni', 'i'), ('nux suse l', 'l'), (' the first', 't'), ('zi concent', 't'), (' society n', 'n'), ('elatively ', ' '), ('etworks sh', 'h'), ('or hirohit', 't'), ('litical in', 'n'), ('n most of ', ' '), ('iskerdoo r', 'r'), ('ic overvie', 'e'), ('air compon', 'n'), ('om acnm ac', 'c'), (' centerlin', 'n'), ('e than any', 'y'), ('devotional', 'l'), ('de such de', 'e')]\n",
      "[('ists advoca', 'a'), ('ary governm', 'm'), ('hes nationa', 'a'), ('d monasteri', 'i'), ('raca prince', 'e'), ('chard baer ', ' '), ('rgical lang', 'g'), ('for passeng', 'g'), ('the nationa', 'a'), ('took place ', ' '), ('ther well k', 'k'), ('seven six s', 's'), ('ith a gloss', 's'), ('robably bee', 'e'), ('to recogniz', 'z'), ('ceived the ', ' '), ('icant than ', ' '), ('ritic of th', 'h'), ('ight in sig', 'g'), ('s uncaused ', ' '), (' lost as in', 'n'), ('cellular ic', 'c'), ('e size of t', 't'), (' him a stic', 'c'), ('drugs confu', 'u'), (' take to co', 'o'), (' the priest', 't'), ('im to name ', ' '), ('d barred at', 't'), ('standard fo', 'o'), (' such as es', 's'), ('ze on the g', 'g'), ('e of the or', 'r'), ('d hiver one', 'e'), ('y eight mar', 'r'), ('the lead ch', 'h'), ('es classica', 'a'), ('ce the non ', ' '), ('al analysis', 's'), ('mormons bel', 'l'), ('t or at lea', 'a'), (' disagreed ', ' '), ('ing system ', ' '), ('btypes base', 'e'), ('anguages th', 'h'), ('r commissio', 'o'), ('ess one nin', 'n'), ('nux suse li', 'i'), (' the first ', ' '), ('zi concentr', 'r'), (' society ne', 'e'), ('elatively s', 's'), ('etworks sha', 'a'), ('or hirohito', 'o'), ('litical ini', 'i'), ('n most of t', 't'), ('iskerdoo ri', 'i'), ('ic overview', 'w'), ('air compone', 'e'), ('om acnm acc', 'c'), (' centerline', 'e'), ('e than any ', ' '), ('devotional ', ' '), ('de such dev', 'v')]\n",
      "['ists advoca', 'ary governm', 'hes nationa', 'd monasteri', 'raca prince', 'chard baer ', 'rgical lang', 'for passeng', 'the nationa', 'took place ', 'ther well k', 'seven six s', 'ith a gloss', 'robably bee', 'to recogniz', 'ceived the ', 'icant than ', 'ritic of th', 'ight in sig', 's uncaused ', ' lost as in', 'cellular ic', 'e size of t', ' him a stic', 'drugs confu', ' take to co', ' the priest', 'im to name ', 'd barred at', 'standard fo', ' such as es', 'ze on the g', 'e of the or', 'd hiver one', 'y eight mar', 'the lead ch', 'es classica', 'ce the non ', 'al analysis', 'mormons bel', 't or at lea', ' disagreed ', 'ing system ', 'btypes base', 'anguages th', 'r commissio', 'ess one nin', 'nux suse li', ' the first ', 'zi concentr', ' society ne', 'elatively s', 'etworks sha', 'or hirohito', 'litical ini', 'n most of t', 'iskerdoo ri', 'ic overview', 'air compone', 'om acnm acc', ' centerline', 'e than any ', 'devotional ', 'de such dev']\n",
      "1\n",
      "[(' ', ' ')]\n",
      "[(' a', 'a')]\n",
      "[' a']\n",
      "1\n",
      "[('a', 'a')]\n",
      "[('an', 'n')]\n",
      "['an']\n"
     ]
    }
   ],
   "source": [
    "batch_size=64\n",
    "num_unrollings=10\n",
    "\n",
    "class BatchGenerator(object):\n",
    "    def __init__(self, text, batch_size, num_unrollings):\n",
    "        self._text = text\n",
    "        self._text_size = len(text)\n",
    "        self._batch_size = batch_size\n",
    "        self._num_unrollings = num_unrollings\n",
    "        segment = self._text_size // batch_size\n",
    "        self._cursor = [ offset * segment for offset in range(batch_size)]\n",
    "        self._last_batch = self._next_batch()\n",
    "  \n",
    "    def _next_batch(self):\n",
    "        \"\"\"Generate a single batch from the current cursor position in the data.\"\"\"\n",
    "        batch = np.zeros(shape=(self._batch_size, vocabulary_size), dtype=np.float)\n",
    "        for b in range(self._batch_size):\n",
    "            batch[b, char2id(self._text[self._cursor[b]])] = 1.0\n",
    "            self._cursor[b] = (self._cursor[b] + 1) % self._text_size\n",
    "        return batch\n",
    "  \n",
    "    def next(self):\n",
    "        \"\"\"Generate the next array of batches from the data. The array consists of\n",
    "        the last batch of the previous array, followed by num_unrollings new ones.\n",
    "        \"\"\"\n",
    "        batches = [self._last_batch]\n",
    "        for step in range(self._num_unrollings):\n",
    "            batches.append(self._next_batch())\n",
    "        self._last_batch = batches[-1]\n",
    "        return batches\n",
    "\n",
    "def characters(probabilities):\n",
    "    \"\"\"Turn a 1-hot encoding or a probability distribution over the possible\n",
    "    characters back into its (most likely) character representation.\"\"\"\n",
    "    return [id2char(c) for c in np.argmax(probabilities, 1)] # the max index in 1-hot encoding -> character\n",
    "\n",
    "def batches2string(batches):\n",
    "    \"\"\"Convert a sequence of batches back into their (most likely) string\n",
    "    representation.\"\"\"\n",
    "    print(batches[0].shape[0])\n",
    "    s = [''] * batches[0].shape[0]\n",
    "    for b in batches:\n",
    "        s = [''.join(x) for x in zip(s, characters(b))]\n",
    "    return s\n",
    "\n",
    "train_batches = BatchGenerator(train_text, batch_size, num_unrollings)\n",
    "valid_batches = BatchGenerator(valid_text, 1, 1)\n",
    "\n",
    "print(batches2string(train_batches.next()))\n",
    "print(batches2string(train_batches.next()))\n",
    "print(batches2string(valid_batches.next()))\n",
    "print(batches2string(valid_batches.next()))"
   ]
  },
  {
   "cell_type": "code",
   "execution_count": 31,
   "metadata": {
    "cellView": "both",
    "colab": {
     "autoexec": {
      "startup": false,
      "wait_interval": 0
     }
    },
    "colab_type": "code",
    "id": "KyVd8FxT5QBc"
   },
   "outputs": [],
   "source": [
    "def logprob(predictions, labels):\n",
    "    \"\"\"Log-probability of the true labels in a predicted batch.\"\"\"\n",
    "    predictions[predictions < 1e-10] = 1e-10\n",
    "    return np.sum(np.multiply(labels, -np.log(predictions))) / labels.shape[0]\n",
    "\n",
    "def sample_distribution(distribution):\n",
    "    \"\"\"Sample one element from a distribution assumed to be an array of normalized\n",
    "    probabilities.\n",
    "    \"\"\"\n",
    "    r = random.uniform(0, 1)\n",
    "    s = 0\n",
    "    for i in range(len(distribution)):\n",
    "        s += distribution[i]\n",
    "        if s >= r:\n",
    "            return i\n",
    "    return len(distribution) - 1\n",
    "\n",
    "def sample(prediction):\n",
    "    \"\"\"Turn a (column) prediction into 1-hot encoded samples.\"\"\"\n",
    "    p = np.zeros(shape=[1, vocabulary_size], dtype=np.float)\n",
    "    p[0, sample_distribution(prediction[0])] = 1.0\n",
    "    return p\n",
    "\n",
    "def random_distribution():\n",
    "    \"\"\"Generate a random column of probabilities.\"\"\"\n",
    "    b = np.random.uniform(0.0, 1.0, size=[1, vocabulary_size]) # 1x27\n",
    "    return b/np.sum(b, 1)[:,None] # 1x27"
   ]
  },
  {
   "cell_type": "markdown",
   "metadata": {
    "colab_type": "text",
    "id": "K8f67YXaDr4C"
   },
   "source": [
    "Simple LSTM Model."
   ]
  },
  {
   "cell_type": "code",
   "execution_count": 32,
   "metadata": {
    "cellView": "both",
    "colab": {
     "autoexec": {
      "startup": false,
      "wait_interval": 0
     }
    },
    "colab_type": "code",
    "id": "Q5rxZK6RDuGe"
   },
   "outputs": [],
   "source": [
    "num_nodes = 64\n",
    "\n",
    "graph = tf.Graph()\n",
    "with graph.as_default():\n",
    "  \n",
    "    # Parameters:\n",
    "    # Input gate: input, previous output, and bias.\n",
    "    ix = tf.Variable(tf.truncated_normal([vocabulary_size, num_nodes], -0.1, 0.1))\n",
    "    im = tf.Variable(tf.truncated_normal([num_nodes, num_nodes], -0.1, 0.1))\n",
    "    ib = tf.Variable(tf.zeros([1, num_nodes]))\n",
    "    # Forget gate: input, previous output, and bias.\n",
    "    fx = tf.Variable(tf.truncated_normal([vocabulary_size, num_nodes], -0.1, 0.1))\n",
    "    fm = tf.Variable(tf.truncated_normal([num_nodes, num_nodes], -0.1, 0.1))\n",
    "    fb = tf.Variable(tf.zeros([1, num_nodes]))\n",
    "    # Memory cell: input, state and bias.                             \n",
    "    cx = tf.Variable(tf.truncated_normal([vocabulary_size, num_nodes], -0.1, 0.1))\n",
    "    cm = tf.Variable(tf.truncated_normal([num_nodes, num_nodes], -0.1, 0.1))\n",
    "    cb = tf.Variable(tf.zeros([1, num_nodes]))\n",
    "    # Output gate: input, previous output, and bias.\n",
    "    ox = tf.Variable(tf.truncated_normal([vocabulary_size, num_nodes], -0.1, 0.1))\n",
    "    om = tf.Variable(tf.truncated_normal([num_nodes, num_nodes], -0.1, 0.1))\n",
    "    ob = tf.Variable(tf.zeros([1, num_nodes]))\n",
    "    # Variables saving state across unrollings.\n",
    "    saved_output = tf.Variable(tf.zeros([batch_size, num_nodes]), trainable=False)\n",
    "    saved_state = tf.Variable(tf.zeros([batch_size, num_nodes]), trainable=False)\n",
    "    # Classifier weights and biases.\n",
    "    w = tf.Variable(tf.truncated_normal([num_nodes, vocabulary_size], -0.1, 0.1))\n",
    "    b = tf.Variable(tf.zeros([vocabulary_size]))\n",
    "    \n",
    "    # Definition of the cell computation.\n",
    "    def lstm_cell(i, o, state):\n",
    "        \"\"\"Create a LSTM cell. See e.g.: http://arxiv.org/pdf/1402.1128v1.pdf\n",
    "        Note that in this formulation, we omit the various connections between the\n",
    "        previous state and the gates.\"\"\"\n",
    "        input_gate = tf.sigmoid(tf.matmul(i, ix) + tf.matmul(o, im) + ib)\n",
    "        forget_gate = tf.sigmoid(tf.matmul(i, fx) + tf.matmul(o, fm) + fb)\n",
    "        update = tf.matmul(i, cx) + tf.matmul(o, cm) + cb\n",
    "        state = forget_gate * state + input_gate * tf.tanh(update)\n",
    "        output_gate = tf.sigmoid(tf.matmul(i, ox) + tf.matmul(o, om) + ob)\n",
    "        return output_gate * tf.tanh(state), state\n",
    "\n",
    "    # Input data.\n",
    "    train_data = list()\n",
    "    for _ in range(num_unrollings + 1):\n",
    "        train_data.append(\n",
    "            tf.placeholder(tf.float32, shape=[batch_size,vocabulary_size]))\n",
    "    train_inputs = train_data[:num_unrollings]\n",
    "    train_labels = train_data[1:]  # labels are inputs shifted by one time step.\n",
    "\n",
    "    # Unrolled LSTM loop.\n",
    "    outputs = list()\n",
    "    output = saved_output\n",
    "    state = saved_state\n",
    "    for i in train_inputs:\n",
    "        output, state = lstm_cell(i, output, state)\n",
    "        outputs.append(output)\n",
    "\n",
    "    # State saving across unrollings.\n",
    "    with tf.control_dependencies([saved_output.assign(output),\n",
    "                                  saved_state.assign(state)]):\n",
    "      # Classifier.\n",
    "        logits = tf.nn.xw_plus_b(tf.concat(outputs, 0), w, b)\n",
    "        loss = tf.reduce_mean(\n",
    "            tf.nn.softmax_cross_entropy_with_logits(\n",
    "                labels=tf.concat(train_labels, 0), logits=logits))\n",
    "\n",
    "    # Optimizer.\n",
    "    global_step = tf.Variable(0)\n",
    "    learning_rate = tf.train.exponential_decay(\n",
    "        10.0, global_step, 5000, 0.1, staircase=True)\n",
    "    optimizer = tf.train.GradientDescentOptimizer(learning_rate)\n",
    "    gradients, v = zip(*optimizer.compute_gradients(loss))\n",
    "    gradients, _ = tf.clip_by_global_norm(gradients, 1.25)\n",
    "    optimizer = optimizer.apply_gradients(\n",
    "        zip(gradients, v), global_step=global_step)\n",
    "\n",
    "    # Predictions.\n",
    "    train_prediction = tf.nn.softmax(logits)\n",
    "    \n",
    "    # Sampling and validation eval: batch 1, no unrolling.\n",
    "    sample_input = tf.placeholder(tf.float32, shape=[1, vocabulary_size])\n",
    "    saved_sample_output = tf.Variable(tf.zeros([1, num_nodes]))\n",
    "    saved_sample_state = tf.Variable(tf.zeros([1, num_nodes]))\n",
    "    reset_sample_state = tf.group(\n",
    "        saved_sample_output.assign(tf.zeros([1, num_nodes])),\n",
    "        saved_sample_state.assign(tf.zeros([1, num_nodes])))\n",
    "    sample_output, sample_state = lstm_cell(\n",
    "        sample_input, saved_sample_output, saved_sample_state)\n",
    "    with tf.control_dependencies([saved_sample_output.assign(sample_output),\n",
    "                                  saved_sample_state.assign(sample_state)]):\n",
    "        sample_prediction = tf.nn.softmax(tf.nn.xw_plus_b(sample_output, w, b))"
   ]
  },
  {
   "cell_type": "code",
   "execution_count": 33,
   "metadata": {
    "cellView": "both",
    "colab": {
     "autoexec": {
      "startup": false,
      "wait_interval": 0
     },
     "output_extras": [
      {
       "item_id": 41
      },
      {
       "item_id": 80
      },
      {
       "item_id": 126
      },
      {
       "item_id": 144
      }
     ]
    },
    "colab_type": "code",
    "executionInfo": {
     "elapsed": 199909,
     "status": "ok",
     "timestamp": 1445965877333,
     "user": {
      "color": "#1FA15D",
      "displayName": "Vincent Vanhoucke",
      "isAnonymous": false,
      "isMe": true,
      "permissionId": "05076109866853157986",
      "photoUrl": "//lh6.googleusercontent.com/-cCJa7dTDcgQ/AAAAAAAAAAI/AAAAAAAACgw/r2EZ_8oYer4/s50-c-k-no/photo.jpg",
      "sessionId": "6f6f07b359200c46",
      "userId": "102167687554210253930"
     },
     "user_tz": 420
    },
    "id": "RD9zQCZTEaEm",
    "outputId": "5e868466-2532-4545-ce35-b403cf5d9de6"
   },
   "outputs": [
    {
     "name": "stdout",
     "output_type": "stream",
     "text": [
      "Initialized\n",
      "Average loss at step 0: 3.301831 learning rate: 10.000000\n",
      "Minibatch perplexity: 27.16\n",
      "================================================================================\n",
      "(1, 27)\n",
      "(1, 27)\n",
      "k zh neseefnlsaunepzpu  mnloslx nfjfje iiufiekmossikyxqqkiphpdnw lefcs q o hmsrl\n",
      "(1, 27)\n",
      "(1, 27)\n",
      "wjnu jijre xl  std xcofaj kgufyuenrl   ihe ean eeuekalhtsfwen xlzuauejdqopnwsryt\n",
      "(1, 27)\n",
      "(1, 27)\n",
      "sobhtogmva eyle cgl easx ymbtx srtirtstyhnpjeoobe edflvre m bqnpwhva rieaoppmidt\n",
      "(1, 27)\n",
      "(1, 27)\n",
      "lnmgl vcnrevytam hsuivjh fmti katow t kg zacbisxfgwlewtezcabyla o  pt tb dtooteg\n",
      "(1, 27)\n",
      "(1, 27)\n",
      "oekegbyxonod tzoibisoxzknreidmngetpgjodi scohihnbeomuxfleoids cokeukys yaawqyero\n",
      "================================================================================\n",
      "Validation set perplexity: 19.97\n",
      "Average loss at step 100: 2.599787 learning rate: 10.000000\n",
      "Minibatch perplexity: 11.05\n",
      "Validation set perplexity: 10.93\n",
      "Average loss at step 200: 2.251490 learning rate: 10.000000\n",
      "Minibatch perplexity: 9.51\n",
      "Validation set perplexity: 9.26\n",
      "Average loss at step 300: 2.097179 learning rate: 10.000000\n",
      "Minibatch perplexity: 7.47\n",
      "Validation set perplexity: 8.03\n",
      "Average loss at step 400: 1.995751 learning rate: 10.000000\n",
      "Minibatch perplexity: 7.53\n",
      "Validation set perplexity: 7.64\n",
      "Average loss at step 500: 1.932762 learning rate: 10.000000\n",
      "Minibatch perplexity: 6.34\n",
      "Validation set perplexity: 7.13\n",
      "Average loss at step 600: 1.905028 learning rate: 10.000000\n",
      "Minibatch perplexity: 6.14\n",
      "Validation set perplexity: 6.77\n",
      "Average loss at step 700: 1.852394 learning rate: 10.000000\n",
      "Minibatch perplexity: 5.56\n",
      "Validation set perplexity: 6.58\n",
      "Average loss at step 800: 1.813739 learning rate: 10.000000\n",
      "Minibatch perplexity: 6.31\n",
      "Validation set perplexity: 6.44\n",
      "Average loss at step 900: 1.824709 learning rate: 10.000000\n",
      "Minibatch perplexity: 7.13\n",
      "Validation set perplexity: 6.14\n",
      "Average loss at step 1000: 1.817045 learning rate: 10.000000\n",
      "Minibatch perplexity: 5.81\n",
      "================================================================================\n",
      "(1, 27)\n",
      "(1, 27)\n",
      "picts of stations and in time lit in five comples with nine zero one five seven \n",
      "(1, 27)\n",
      "(1, 27)\n",
      "lac and seaking s cixiver wal with the can nine the kighers chire reciemnation i\n",
      "(1, 27)\n",
      "(1, 27)\n",
      "ly disstain and in oviectionanis the will resterns whices brakiss ald querams an\n",
      "(1, 27)\n",
      "(1, 27)\n",
      "x truath iduas and stuble civil mainst court relactionfle condince four in fredi\n",
      "(1, 27)\n",
      "(1, 27)\n",
      "xialing the chuarpabaria dirdinial wen sh spiretur acters the arock of trayed pi\n",
      "================================================================================\n",
      "Validation set perplexity: 5.89\n",
      "Average loss at step 1100: 1.769575 learning rate: 10.000000\n",
      "Minibatch perplexity: 5.64\n",
      "Validation set perplexity: 5.85\n",
      "Average loss at step 1200: 1.749425 learning rate: 10.000000\n",
      "Minibatch perplexity: 6.28\n",
      "Validation set perplexity: 5.58\n",
      "Average loss at step 1300: 1.725619 learning rate: 10.000000\n",
      "Minibatch perplexity: 5.80\n",
      "Validation set perplexity: 5.59\n",
      "Average loss at step 1400: 1.742622 learning rate: 10.000000\n",
      "Minibatch perplexity: 4.80\n",
      "Validation set perplexity: 5.62\n",
      "Average loss at step 1500: 1.734461 learning rate: 10.000000\n",
      "Minibatch perplexity: 6.13\n",
      "Validation set perplexity: 5.30\n",
      "Average loss at step 1600: 1.741758 learning rate: 10.000000\n",
      "Minibatch perplexity: 5.20\n",
      "Validation set perplexity: 5.40\n",
      "Average loss at step 1700: 1.707469 learning rate: 10.000000\n",
      "Minibatch perplexity: 4.47\n",
      "Validation set perplexity: 5.43\n",
      "Average loss at step 1800: 1.673246 learning rate: 10.000000\n",
      "Minibatch perplexity: 5.03\n",
      "Validation set perplexity: 5.13\n",
      "Average loss at step 1900: 1.645343 learning rate: 10.000000\n",
      "Minibatch perplexity: 5.83\n",
      "Validation set perplexity: 5.15\n",
      "Average loss at step 2000: 1.692915 learning rate: 10.000000\n",
      "Minibatch perplexity: 4.97\n",
      "================================================================================\n",
      "(1, 27)\n",
      "(1, 27)\n",
      "urh and arthess mayber state perfossit of one nine six six five nine nine seven \n",
      "(1, 27)\n",
      "(1, 27)\n",
      "bseins of the baser uses theld the world standers calor the cossidies b burgha w\n",
      "(1, 27)\n",
      "(1, 27)\n",
      "nion the denolding wordeflority and the founwlu vice the grapried tabe gare foun\n",
      "(1, 27)\n",
      "(1, 27)\n",
      "zer the arampicous sementers primes rasm d comedid helday everon welded one nine\n",
      "(1, 27)\n",
      "(1, 27)\n",
      "l assimradbela spandmexed his thementrailnt one eight heme tosex and ebe user s \n",
      "================================================================================\n",
      "Validation set perplexity: 5.22\n",
      "Average loss at step 2100: 1.678142 learning rate: 10.000000\n",
      "Minibatch perplexity: 5.28\n",
      "Validation set perplexity: 4.85\n",
      "Average loss at step 2200: 1.673329 learning rate: 10.000000\n",
      "Minibatch perplexity: 5.06\n",
      "Validation set perplexity: 5.02\n",
      "Average loss at step 2300: 1.636710 learning rate: 10.000000\n",
      "Minibatch perplexity: 5.52\n",
      "Validation set perplexity: 4.94\n",
      "Average loss at step 2400: 1.655145 learning rate: 10.000000\n",
      "Minibatch perplexity: 5.00\n",
      "Validation set perplexity: 4.84\n",
      "Average loss at step 2500: 1.676903 learning rate: 10.000000\n",
      "Minibatch perplexity: 5.68\n",
      "Validation set perplexity: 4.63\n",
      "Average loss at step 2600: 1.649140 learning rate: 10.000000\n",
      "Minibatch perplexity: 5.82\n",
      "Validation set perplexity: 4.71\n",
      "Average loss at step 2700: 1.653439 learning rate: 10.000000\n",
      "Minibatch perplexity: 5.29\n",
      "Validation set perplexity: 4.73\n",
      "Average loss at step 2800: 1.645859 learning rate: 10.000000\n",
      "Minibatch perplexity: 4.85\n",
      "Validation set perplexity: 4.68\n",
      "Average loss at step 2900: 1.646422 learning rate: 10.000000\n",
      "Minibatch perplexity: 4.62\n",
      "Validation set perplexity: 4.64\n",
      "Average loss at step 3000: 1.649594 learning rate: 10.000000\n",
      "Minibatch perplexity: 4.75\n",
      "================================================================================\n",
      "(1, 27)\n",
      "(1, 27)\n",
      "zing the indic is eivo march dent the ripates or was d senco cannot papantiff fo\n",
      "(1, 27)\n",
      "(1, 27)\n",
      "pative the asss she decausa main intocade it buter hupphelic in gravil and ameri\n",
      "(1, 27)\n",
      "(1, 27)\n",
      "bli pronain abi poarted part and amercand the victore the meth the supportation \n",
      "(1, 27)\n",
      "(1, 27)\n",
      "ban colle avarandity time the botlove  time alto induate zero fome intort excebl\n",
      "(1, 27)\n",
      "(1, 27)\n",
      "ue when mazuanta kellands ploc apribalt wsm dus and obstating trace chettchand i\n",
      "================================================================================\n",
      "Validation set perplexity: 4.63\n",
      "Average loss at step 3100: 1.624661 learning rate: 10.000000\n",
      "Minibatch perplexity: 5.80\n",
      "Validation set perplexity: 4.61\n",
      "Average loss at step 3200: 1.636204 learning rate: 10.000000\n",
      "Minibatch perplexity: 4.83\n",
      "Validation set perplexity: 4.51\n",
      "Average loss at step 3300: 1.634888 learning rate: 10.000000\n",
      "Minibatch perplexity: 5.76\n",
      "Validation set perplexity: 4.51\n",
      "Average loss at step 3400: 1.670705 learning rate: 10.000000\n",
      "Minibatch perplexity: 6.24\n",
      "Validation set perplexity: 4.67\n",
      "Average loss at step 3500: 1.650945 learning rate: 10.000000\n",
      "Minibatch perplexity: 5.47\n",
      "Validation set perplexity: 4.71\n",
      "Average loss at step 3600: 1.663692 learning rate: 10.000000\n",
      "Minibatch perplexity: 4.92\n",
      "Validation set perplexity: 4.57\n",
      "Average loss at step 3700: 1.644338 learning rate: 10.000000\n",
      "Minibatch perplexity: 5.57\n",
      "Validation set perplexity: 4.59\n",
      "Average loss at step 3800: 1.641767 learning rate: 10.000000\n",
      "Minibatch perplexity: 4.85\n",
      "Validation set perplexity: 4.50\n",
      "Average loss at step 3900: 1.634279 learning rate: 10.000000\n",
      "Minibatch perplexity: 5.96\n",
      "Validation set perplexity: 4.59\n",
      "Average loss at step 4000: 1.649568 learning rate: 10.000000\n",
      "Minibatch perplexity: 4.68\n",
      "================================================================================\n",
      "(1, 27)\n",
      "(1, 27)\n",
      "jusce there death centure fowrerd yell uchiv of a genettris new and zesoded in o\n",
      "(1, 27)\n",
      "(1, 27)\n",
      " dow contal interporal product difficily ockas genereqy as that can zero one two\n",
      "(1, 27)\n",
      "(1, 27)\n",
      "fish nother and vied producteds of pprous m intail exodes stwt per in obrue inte\n",
      "(1, 27)\n",
      "(1, 27)\n",
      "us of is beveerssions its deconverred which ancornaly sust reputents one one one\n",
      "(1, 27)\n",
      "(1, 27)\n",
      "huscific pointno af the quindel of he music fricted views about or regaited on h\n",
      "================================================================================\n",
      "Validation set perplexity: 4.58\n",
      "Average loss at step 4100: 1.630189 learning rate: 10.000000\n",
      "Minibatch perplexity: 5.18\n"
     ]
    },
    {
     "name": "stdout",
     "output_type": "stream",
     "text": [
      "Validation set perplexity: 4.58\n",
      "Average loss at step 4200: 1.630643 learning rate: 10.000000\n",
      "Minibatch perplexity: 4.87\n",
      "Validation set perplexity: 4.55\n",
      "Average loss at step 4300: 1.613565 learning rate: 10.000000\n",
      "Minibatch perplexity: 4.99\n",
      "Validation set perplexity: 4.58\n",
      "Average loss at step 4400: 1.603591 learning rate: 10.000000\n",
      "Minibatch perplexity: 4.76\n",
      "Validation set perplexity: 4.46\n",
      "Average loss at step 4500: 1.615717 learning rate: 10.000000\n",
      "Minibatch perplexity: 5.36\n",
      "Validation set perplexity: 4.62\n",
      "Average loss at step 4600: 1.613464 learning rate: 10.000000\n",
      "Minibatch perplexity: 5.13\n",
      "Validation set perplexity: 4.57\n",
      "Average loss at step 4700: 1.624110 learning rate: 10.000000\n",
      "Minibatch perplexity: 5.06\n",
      "Validation set perplexity: 4.49\n",
      "Average loss at step 4800: 1.629423 learning rate: 10.000000\n",
      "Minibatch perplexity: 4.99\n",
      "Validation set perplexity: 4.49\n",
      "Average loss at step 4900: 1.629346 learning rate: 10.000000\n",
      "Minibatch perplexity: 5.01\n",
      "Validation set perplexity: 4.69\n",
      "Average loss at step 5000: 1.607262 learning rate: 1.000000\n",
      "Minibatch perplexity: 5.25\n",
      "================================================================================\n",
      "(1, 27)\n",
      "(1, 27)\n",
      "natured in the sister ross gove one nine seven three six eight one zero the impo\n",
      "(1, 27)\n",
      "(1, 27)\n",
      "s has noter one two with that velsocia ican codvines laters with afteres at kaww\n",
      "(1, 27)\n",
      "(1, 27)\n",
      "brecedies tabitam durcan ii wrust nomer of by increase bove officiarage at benou\n",
      "(1, 27)\n",
      "(1, 27)\n",
      "gened slawed under roush sincives b other his his ministed in tricknis smatt ser\n",
      "(1, 27)\n",
      "(1, 27)\n",
      "gull piectered imperally were trairinemican pajio and his am a perperually devel\n",
      "================================================================================\n",
      "Validation set perplexity: 4.63\n",
      "Average loss at step 5100: 1.603380 learning rate: 1.000000\n",
      "Minibatch perplexity: 4.94\n",
      "Validation set perplexity: 4.45\n",
      "Average loss at step 5200: 1.588664 learning rate: 1.000000\n",
      "Minibatch perplexity: 4.59\n",
      "Validation set perplexity: 4.42\n",
      "Average loss at step 5300: 1.573152 learning rate: 1.000000\n",
      "Minibatch perplexity: 5.38\n",
      "Validation set perplexity: 4.41\n",
      "Average loss at step 5400: 1.577010 learning rate: 1.000000\n",
      "Minibatch perplexity: 5.27\n",
      "Validation set perplexity: 4.38\n",
      "Average loss at step 5500: 1.567016 learning rate: 1.000000\n",
      "Minibatch perplexity: 4.94\n",
      "Validation set perplexity: 4.35\n",
      "Average loss at step 5600: 1.575974 learning rate: 1.000000\n",
      "Minibatch perplexity: 4.71\n",
      "Validation set perplexity: 4.35\n",
      "Average loss at step 5700: 1.567701 learning rate: 1.000000\n",
      "Minibatch perplexity: 4.58\n",
      "Validation set perplexity: 4.36\n",
      "Average loss at step 5800: 1.579814 learning rate: 1.000000\n",
      "Minibatch perplexity: 5.37\n",
      "Validation set perplexity: 4.39\n",
      "Average loss at step 5900: 1.570851 learning rate: 1.000000\n",
      "Minibatch perplexity: 4.57\n",
      "Validation set perplexity: 4.40\n",
      "Average loss at step 6000: 1.542163 learning rate: 1.000000\n",
      "Minibatch perplexity: 4.75\n",
      "================================================================================\n",
      "(1, 27)\n",
      "(1, 27)\n",
      "left is common in the republic native not beings creating rin gause they mon on \n",
      "(1, 27)\n",
      "(1, 27)\n",
      "berd thatwreorts octern to the poher and sylonged destrals his the fixation to g\n",
      "(1, 27)\n",
      "(1, 27)\n",
      "toroy variouter of had this orphy concell included including a sulge ricalle one\n",
      "(1, 27)\n",
      "(1, 27)\n",
      "ords and in the and wauringty and song premiquented fijs macor of compotes set a\n",
      "(1, 27)\n",
      "(1, 27)\n",
      "phen was international is varue base english a actoruction also frenct syphed mo\n",
      "================================================================================\n",
      "Validation set perplexity: 4.36\n",
      "Average loss at step 6100: 1.560090 learning rate: 1.000000\n",
      "Minibatch perplexity: 4.13\n",
      "Validation set perplexity: 4.35\n",
      "Average loss at step 6200: 1.534660 learning rate: 1.000000\n",
      "Minibatch perplexity: 5.36\n",
      "Validation set perplexity: 4.39\n",
      "Average loss at step 6300: 1.543960 learning rate: 1.000000\n",
      "Minibatch perplexity: 4.56\n",
      "Validation set perplexity: 4.36\n",
      "Average loss at step 6400: 1.540157 learning rate: 1.000000\n",
      "Minibatch perplexity: 5.13\n",
      "Validation set perplexity: 4.36\n",
      "Average loss at step 6500: 1.560386 learning rate: 1.000000\n",
      "Minibatch perplexity: 4.71\n",
      "Validation set perplexity: 4.34\n",
      "Average loss at step 6600: 1.591092 learning rate: 1.000000\n",
      "Minibatch perplexity: 4.80\n",
      "Validation set perplexity: 4.34\n",
      "Average loss at step 6700: 1.578040 learning rate: 1.000000\n",
      "Minibatch perplexity: 4.38\n",
      "Validation set perplexity: 4.36\n",
      "Average loss at step 6800: 1.604137 learning rate: 1.000000\n",
      "Minibatch perplexity: 5.06\n",
      "Validation set perplexity: 4.38\n",
      "Average loss at step 6900: 1.582492 learning rate: 1.000000\n",
      "Minibatch perplexity: 4.76\n",
      "Validation set perplexity: 4.40\n",
      "Average loss at step 7000: 1.574980 learning rate: 1.000000\n",
      "Minibatch perplexity: 5.03\n",
      "================================================================================\n",
      "(1, 27)\n",
      "(1, 27)\n",
      "us a stack change of isall from hubs une hery by a rusit of codny black wit of m\n",
      "(1, 27)\n",
      "(1, 27)\n",
      "vompolt patentiai would to the him have and typioger game bookly of fastery a so\n",
      "(1, 27)\n",
      "(1, 27)\n",
      "restrialism rung gon hogira viij elegal shatia matonan on destants and the aream\n",
      "(1, 27)\n",
      "(1, 27)\n",
      "eneic shall meosun in the odigare that crest selenciaticions trieky to b lest co\n",
      "(1, 27)\n",
      "(1, 27)\n",
      "ling according owonss jotterone countrs would a beith nevolves controten works b\n",
      "================================================================================\n",
      "Validation set perplexity: 4.36\n"
     ]
    }
   ],
   "source": [
    "num_steps = 7001\n",
    "summary_frequency = 100\n",
    "\n",
    "with tf.Session(graph=graph) as session:\n",
    "    tf.global_variables_initializer().run()\n",
    "    print('Initialized')\n",
    "    mean_loss = 0\n",
    "    for step in range(num_steps):\n",
    "        batches = train_batches.next()\n",
    "        feed_dict = dict()\n",
    "        for i in range(num_unrollings + 1):\n",
    "            feed_dict[train_data[i]] = batches[i]\n",
    "        _, l, predictions, lr = session.run(\n",
    "          [optimizer, loss, train_prediction, learning_rate], feed_dict=feed_dict)\n",
    "        mean_loss += l\n",
    "        if step % summary_frequency == 0:\n",
    "            if step > 0:\n",
    "                mean_loss = mean_loss / summary_frequency\n",
    "            # The mean loss is an estimate of the loss over the last few batches.\n",
    "            print('Average loss at step %d: %f learning rate: %f' % (step, mean_loss, lr))\n",
    "            mean_loss = 0\n",
    "            labels = np.concatenate(list(batches)[1:])\n",
    "            print('Minibatch perplexity: %.2f' % float(\n",
    "                np.exp(logprob(predictions, labels))))\n",
    "            if step % (summary_frequency * 10) == 0:\n",
    "                # Generate some samples.\n",
    "                print('=' * 80)\n",
    "                for _ in range(5):\n",
    "                    feed = sample(random_distribution())\n",
    "                    sentence = characters(feed)[0]\n",
    "                    reset_sample_state.run()\n",
    "                    for _ in range(79):\n",
    "                        prediction = sample_prediction.eval({sample_input: feed})\n",
    "                        feed = sample(prediction)\n",
    "                        sentence += characters(feed)[0]\n",
    "                    print(sentence)\n",
    "                print('=' * 80)\n",
    "            # Measure validation set perplexity.\n",
    "            reset_sample_state.run()\n",
    "            valid_logprob = 0\n",
    "            for _ in range(valid_size):\n",
    "                b = valid_batches.next()\n",
    "                predictions = sample_prediction.eval({sample_input: b[0]})\n",
    "                valid_logprob = valid_logprob + logprob(predictions, b[1])\n",
    "            print('Validation set perplexity: %.2f' % float(np.exp(\n",
    "                valid_logprob / valid_size)))"
   ]
  },
  {
   "cell_type": "markdown",
   "metadata": {
    "colab_type": "text",
    "id": "pl4vtmFfa5nn"
   },
   "source": [
    "---\n",
    "Problem 1\n",
    "---------\n",
    "\n",
    "You might have noticed that the definition of the LSTM cell involves 4 matrix multiplications with the input, and 4 matrix multiplications with the output. Simplify the expression by using a single matrix multiply for each, and variables that are 4 times larger.\n",
    "\n",
    "---"
   ]
  },
  {
   "cell_type": "markdown",
   "metadata": {
    "colab_type": "text",
    "id": "4eErTCTybtph"
   },
   "source": [
    "---\n",
    "Problem 2\n",
    "---------\n",
    "\n",
    "We want to train a LSTM over bigrams, that is pairs of consecutive characters like 'ab' instead of single characters like 'a'. Since the number of possible bigrams is large, feeding them directly to the LSTM using 1-hot encodings will lead to a very sparse representation that is very wasteful computationally.\n",
    "\n",
    "a- Introduce an embedding lookup on the inputs, and feed the embeddings to the LSTM cell instead of the inputs themselves.\n",
    "\n",
    "b- Write a bigram-based LSTM, modeled on the character LSTM above.\n",
    "\n",
    "c- Introduce Dropout. For best practices on how to use Dropout in LSTMs, refer to this [article](http://arxiv.org/abs/1409.2329).\n",
    "\n",
    "---"
   ]
  },
  {
   "cell_type": "markdown",
   "metadata": {
    "colab_type": "text",
    "id": "Y5tapX3kpcqZ"
   },
   "source": [
    "---\n",
    "Problem 3\n",
    "---------\n",
    "\n",
    "(difficult!)\n",
    "\n",
    "Write a sequence-to-sequence LSTM which mirrors all the words in a sentence. For example, if your input is:\n",
    "\n",
    "    the quick brown fox\n",
    "    \n",
    "the model should attempt to output:\n",
    "\n",
    "    eht kciuq nworb xof\n",
    "    \n",
    "Refer to the lecture on how to put together a sequence-to-sequence model, as well as [this article](http://arxiv.org/abs/1409.3215) for best practices.\n",
    "\n",
    "---"
   ]
  }
 ],
 "metadata": {
  "colab": {
   "default_view": {},
   "name": "6_lstm.ipynb",
   "provenance": [],
   "version": "0.3.2",
   "views": {}
  },
  "kernelspec": {
   "display_name": "Python 3",
   "language": "python",
   "name": "python3"
  },
  "language_info": {
   "codemirror_mode": {
    "name": "ipython",
    "version": 3
   },
   "file_extension": ".py",
   "mimetype": "text/x-python",
   "name": "python",
   "nbconvert_exporter": "python",
   "pygments_lexer": "ipython3",
   "version": "3.6.9"
  }
 },
 "nbformat": 4,
 "nbformat_minor": 1
}
